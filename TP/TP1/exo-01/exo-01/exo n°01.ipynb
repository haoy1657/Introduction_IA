{
 "cells": [
  {
   "cell_type": "markdown",
   "metadata": {},
   "source": [
    "# Q* Learning \n",
    "<br> \n",
    "In this notebook, we'll implement an agent <b>that plays FrozenLake.</b>\n",
    "<img src=\"frozenlake.png\" alt=\"Frozen Lake\"/>\n",
    "\n",
    "The goal of this game is <b>to go from the starting state (S) to the goal state (G)</b> by walking only on frozen tiles (F) and avoid holes (H).However, the ice is slippery, <b>so you won't always move in the direction you intend (stochastic environment)</b>"
   ]
  },
  {
   "cell_type": "markdown",
   "metadata": {},
   "source": [
    "## Step 0: Import the dependencies\n",
    "We use 3 libraries:\n",
    "- `Numpy` for our Qtable\n",
    "- `OpenAI Gym` for our FrozenLake Environment\n",
    "- `Random` to generate random numbers"
   ]
  },
  {
   "cell_type": "code",
   "execution_count": 2,
   "metadata": {},
   "outputs": [],
   "source": [
    "import numpy as np\n",
    "import gym\n",
    "import random\n",
    "import matplotlib.pyplot as plt"
   ]
  },
  {
   "cell_type": "markdown",
   "metadata": {},
   "source": [
    "## Step 1: Create the environment\n",
    "- Here we'll create the FrozenLake environment. \n",
    "- OpenAI Gym is a library <b> composed of many environments that we can use to train our agents.</b>\n",
    "- In our case we choose to use Frozen Lake.\n",
    "- Note that S is the subject, F is frozen, H is the hole, and G the goal."
   ]
  },
  {
   "cell_type": "code",
   "execution_count": 3,
   "metadata": {},
   "outputs": [
    {
     "name": "stdout",
     "output_type": "stream",
     "text": [
      "\n",
      "\u001b[41mS\u001b[0mFFF\n",
      "FHFH\n",
      "FFFH\n",
      "HFFG\n"
     ]
    }
   ],
   "source": [
    "env = gym.make(\"FrozenLake-v1\")\n",
    "env.render()"
   ]
  },
  {
   "cell_type": "markdown",
   "metadata": {},
   "source": [
    "## Step 2: Create the Q-table and initialize it\n",
    "- Now, we'll create our Q-table, to know how much rows (states) and columns (actions) we need, we need to calculate the action_size and the state_size\n",
    "- OpenAI Gym provides us a way to do that: `env.action_space.n` and `env.observation_space.n`"
   ]
  },
  {
   "cell_type": "code",
   "execution_count": 4,
   "metadata": {},
   "outputs": [
    {
     "name": "stdout",
     "output_type": "stream",
     "text": [
      "state size :  16\n",
      "action size : 4\n"
     ]
    }
   ],
   "source": [
    "action_size = env.action_space.n\n",
    "state_size = env.observation_space.n\n",
    "print(\"state size : \", state_size)\n",
    "print(\"action size :\" , action_size)\n",
    "\n",
    "# 4 actions : left , down ,right ,up\n",
    "# 16 states : every state is different from the other "
   ]
  },
  {
   "cell_type": "code",
   "execution_count": 5,
   "metadata": {},
   "outputs": [
    {
     "name": "stdout",
     "output_type": "stream",
     "text": [
      "[[0. 0. 0. 0.]\n",
      " [0. 0. 0. 0.]\n",
      " [0. 0. 0. 0.]\n",
      " [0. 0. 0. 0.]\n",
      " [0. 0. 0. 0.]\n",
      " [0. 0. 0. 0.]\n",
      " [0. 0. 0. 0.]\n",
      " [0. 0. 0. 0.]\n",
      " [0. 0. 0. 0.]\n",
      " [0. 0. 0. 0.]\n",
      " [0. 0. 0. 0.]\n",
      " [0. 0. 0. 0.]\n",
      " [0. 0. 0. 0.]\n",
      " [0. 0. 0. 0.]\n",
      " [0. 0. 0. 0.]\n",
      " [0. 0. 0. 0.]]\n"
     ]
    }
   ],
   "source": [
    "# Complete the code to create the qtable from the action_size and state_size\n",
    "qtable = np.zeros((state_size,action_size)) # 16 rows (states) , 4 Columns (cause of the 4 actions avalaible)\n",
    "print(qtable)"
   ]
  },
  {
   "cell_type": "markdown",
   "metadata": {},
   "source": [
    "**4 states : F , H , G , Initial S** \\\n",
    "**4 actions** \n"
   ]
  },
  {
   "cell_type": "markdown",
   "metadata": {},
   "source": [
    "## Step 3: Create the hyperparameters\n",
    "- Here, we'll specify the hyperparameters\n",
    "- Comment about the impact of each parameter in the learning process. You can run again the notebook for different configurations."
   ]
  },
  {
   "cell_type": "code",
   "execution_count": 6,
   "metadata": {},
   "outputs": [],
   "source": [
    "total_episodes = 15000  # Total of simulations  \n",
    "learning_rate = 0.8           \n",
    "max_steps = 99  # Numbers of the agent's steps allowed in the envirionnement               \n",
    "gamma = 0.95                  \n",
    "\n",
    "epsilon = 0.5    # exploration or explotation          \n",
    "max_epsilon = 1.0             \n",
    "min_epsilon = 0.01            \n",
    "decay_rate = 0.005            "
   ]
  },
  {
   "cell_type": "code",
   "execution_count": 7,
   "metadata": {},
   "outputs": [
    {
     "data": {
      "text/plain": [
       "\"\\nAll the following parameters are needed to implement the q learning algorithm \\n\\nTotal episodes ==> the amount of simulations in the training process for our agent in the Frozen lake environnement\\n\\nmax_steps ==> Numbers of the agent's steps allowed in the envirionnement    \\n\\nLearning rate ==> number between 0 and 1 . Can be thought as how quickly the agent abandons the previous q value for the new one \\n(for a given state/action pair)\\n\\ngamma ==> discount rate . Rate for which we discount futur rewards and will determine the present value of futur rewards\\n\\nepsilon ==> Also called the exploration rate  , probability about making exploration or exploitation. Is sets to '1' so the agent will start exploring\\nthe environnement. As the agent learn more about the environnement in each new episode , epsilon will decay by some rate so that exploration \\nbecome less and less probable \\n\\nmax_epsilon and min_epsilon :  bounds -> how large and how small the exploration rate (epsilon) can be \\n\\nDecay rate ==> Rate at whitch epslion will decay\\n \\n \""
      ]
     },
     "execution_count": 7,
     "metadata": {},
     "output_type": "execute_result"
    }
   ],
   "source": [
    "# Write your comments in this cell:\n",
    "'''\n",
    "All the following parameters are needed to implement the q learning algorithm \n",
    "\n",
    "Total episodes ==> the amount of simulations in the training process for our agent in the Frozen lake environnement\n",
    "\n",
    "max_steps ==> Numbers of the agent's steps allowed in the envirionnement    \n",
    "\n",
    "Learning rate ==> number between 0 and 1 . Can be thought as how quickly the agent abandons the previous q value for the new one \n",
    "(for a given state/action pair)\n",
    "\n",
    "gamma ==> discount rate . Rate for which we discount futur rewards and will determine the present value of futur rewards\n",
    "\n",
    "epsilon ==> Also called the exploration rate  , probability about making exploration or exploitation. Is sets to '1' so the agent will start exploring\n",
    "the environnement. As the agent learn more about the environnement in each new episode , epsilon will decay by some rate so that exploration \n",
    "become less and less probable \n",
    "\n",
    "max_epsilon and min_epsilon :  bounds -> how large and how small the exploration rate (epsilon) can be \n",
    "\n",
    "Decay rate ==> Rate at whitch epslion will decay\n",
    " \n",
    " '''\n",
    "\n",
    "# Decay ==> déclin / decroit"
   ]
  },
  {
   "cell_type": "markdown",
   "metadata": {},
   "source": [
    "## Step 4: The Q learning algorithm\n",
    "- Now we implement the Q learning algorithm:"
   ]
  },
  {
   "cell_type": "code",
   "execution_count": 8,
   "metadata": {},
   "outputs": [
    {
     "name": "stdout",
     "output_type": "stream",
     "text": [
      "Score over time: 0.4660666666666667\n",
      "[[4.44396227e-01 7.35355072e-03 7.40322777e-03 1.38931236e-02]\n",
      " [1.01612680e-04 1.87391530e-04 2.59414318e-05 3.86557465e-02]\n",
      " [6.80060804e-04 1.92746543e-03 1.09189374e-03 7.02107342e-03]\n",
      " [7.01953981e-04 2.20036014e-04 7.67445361e-04 7.22113981e-03]\n",
      " [2.83551193e-01 6.02100455e-03 2.11194642e-03 6.38495863e-04]\n",
      " [0.00000000e+00 0.00000000e+00 0.00000000e+00 0.00000000e+00]\n",
      " [1.06255085e-05 7.41143369e-02 6.46964165e-06 6.69511892e-06]\n",
      " [0.00000000e+00 0.00000000e+00 0.00000000e+00 0.00000000e+00]\n",
      " [4.75428970e-03 2.28351249e-03 3.99284027e-03 2.43091571e-01]\n",
      " [1.20084524e-02 2.64492377e-03 1.34817902e-01 2.46398996e-03]\n",
      " [6.76196167e-01 2.77473226e-04 1.40227280e-04 1.23716631e-04]\n",
      " [0.00000000e+00 0.00000000e+00 0.00000000e+00 0.00000000e+00]\n",
      " [0.00000000e+00 0.00000000e+00 0.00000000e+00 0.00000000e+00]\n",
      " [6.64343029e-02 3.08653262e-02 7.15919248e-01 4.91121728e-02]\n",
      " [1.38042707e-01 9.59749405e-01 1.25157041e-01 1.18111599e-01]\n",
      " [0.00000000e+00 0.00000000e+00 0.00000000e+00 0.00000000e+00]]\n"
     ]
    }
   ],
   "source": [
    "# Step 1 --> Q-values are already initialized.\n",
    "\n",
    "# List of rewards we'll get from each episodes\n",
    "rewards = []\n",
    "\n",
    "# Step 2 --> For life or until learning is stopped ...\n",
    "for episode in range(total_episodes):\n",
    "    # Reset the environment\n",
    "    state = env.reset()\n",
    "    step = 0\n",
    "    \n",
    "    done = False # the done variable just keeps track of whether or not the episode is finished \n",
    "    # We initialize it to false when we first start the episode \n",
    "    \n",
    "    total_rewards = 0 # Each epiosde starts with no rewards \n",
    "\n",
    "    \n",
    "    for step in range(max_steps): \n",
    "        # Step 3 --> Choose an action (a) in the current world state (s)\n",
    "        ## First we randomize a number\n",
    "        \n",
    "        \n",
    "        exp_exp_tradeoff = random.uniform(0,1) # Random - between 0 and 1 . Will be used to determine whether or not\n",
    "        # the agent will explore or exloit the environnement in this time step \n",
    "\n",
    "        # eps is initialy sets to 1 \n",
    "        \n",
    "        ## If this number > greater than epsilon --> exploitation (taking the biggest Q value for the current state)\n",
    "        if exp_exp_tradeoff > epsilon: \n",
    "            action = np.argmax(qtable[state]) \n",
    "            \n",
    "            \n",
    "        \n",
    "        \n",
    "        # Else doing a random choice --> exploration\n",
    "        else:\n",
    "            action = env.action_space.sample() # exploring the environnement and sample an action randomly \n",
    "            \n",
    "            # Random actions are set with the following command  : env.action_space.sample()\n",
    "\n",
    "        \n",
    "        # Step 4 --> Take the action (a) and observe the outcome state(s') and reward (r)\n",
    "        new_state, reward, done, info = env.step(action) # use the method step from env. Check gym library documentation.\n",
    "\n",
    "        # step returns a tuple containing  : \n",
    "        # - The new state \n",
    "        # - The reward for the action we took \n",
    "        # - whether or not our action ended our episode \n",
    "        # - Some diagnostic info regarding our environnement\n",
    "        \n",
    "        \n",
    "        \n",
    "        # Step 5 --> Update Q(s,a):= Q(s,a) + lr [R(s,a) + gamma * max Q(s',a') - Q(s,a)]\n",
    "        # qtable[new_state,:] : all the actions we can take from new state\n",
    "        \n",
    "        \n",
    "        #Bellman's equation : \n",
    "        \n",
    "        qtable[state, action] = qtable[state, action] + learning_rate *(reward + gamma*np.max(qtable[new_state]) - qtable[state, action])\n",
    "        \n",
    "        #the new q value for this \"state/action\" pair, is a weighted sum of out old values and learn values \n",
    "        # \n",
    "        # Learn values :  learning_rate *(reward + gamma*np.max(qtable[new_state, :]) - qtable[state, action])\n",
    "        \n",
    "        \n",
    "        total_rewards += reward\n",
    "\n",
    "\n",
    "        \n",
    "        # Our new state is state\n",
    "        state = new_state\n",
    "        \n",
    "        # If done (if we're dead) : finish episode\n",
    "        if done == True: \n",
    "            break\n",
    "        \n",
    "    # Reduce epsilon \n",
    "    epsilon = min_epsilon + (max_epsilon - min_epsilon)*np.exp(-decay_rate*episode) \n",
    "    rewards.append(total_rewards)\n",
    "    # Why do we need to reduce the epsilon? Comment below:\n",
    "    '''\n",
    "    Write your answer here:\n",
    "     the more epsilon is small , the more the condition exp_exp_tradeoff > epsilon will be verified , which leads to more exploitation from \n",
    "     the agent and less exploration , of our environnement.\n",
    "\n",
    "     if for instance we decide to define epsilon as equal to 0.5 ,  we'll observe in Step 5 that the agent will  ends up to the goal five times in\n",
    "     a row.\n",
    "    \n",
    "    '''\n",
    "   \n",
    "\n",
    "print (\"Score over time: \" +  str(sum(rewards)/total_episodes))\n",
    "print(qtable)\n",
    "\n",
    "#  Epsilon will decrease as the agent evolve throught the environnement during the severals epiosdes\n",
    "# As epsilon decrease , we will have more chance to avec tradeoff > epsilon , so more exploitation as we learn of the environnement\n",
    "# Principe of the \"apprentissage par renforcement\""
   ]
  },
  {
   "cell_type": "markdown",
   "metadata": {},
   "source": [
    "## Step 5: Use our Q-table to play FrozenLake! \n",
    "- After 10 000 episodes, our Q-table can be used as a \"cheatsheet\" to play FrozenLake\"\n",
    "- By running this cell you can see our agent playing FrozenLake.\n",
    "- Evaluate how the reward evolves in each step and comment about it."
   ]
  },
  {
   "cell_type": "code",
   "execution_count": 9,
   "metadata": {},
   "outputs": [
    {
     "name": "stdout",
     "output_type": "stream",
     "text": [
      "****************************************************\n",
      "EPISODE  0\n",
      "  (Down)\n",
      "SFFF\n",
      "F\u001b[41mH\u001b[0mFH\n",
      "FFFH\n",
      "HFFG\n",
      "Number of steps 21\n",
      "****************************************************\n",
      "EPISODE  1\n",
      "  (Right)\n",
      "SFFF\n",
      "F\u001b[41mH\u001b[0mFH\n",
      "FFFH\n",
      "HFFG\n",
      "Number of steps 14\n",
      "****************************************************\n",
      "EPISODE  2\n",
      "  (Right)\n",
      "SFFF\n",
      "F\u001b[41mH\u001b[0mFH\n",
      "FFFH\n",
      "HFFG\n",
      "Number of steps 15\n",
      "****************************************************\n",
      "EPISODE  3\n",
      "  (Down)\n",
      "SFFF\n",
      "FHFH\n",
      "FFFH\n",
      "HFF\u001b[41mG\u001b[0m\n",
      "Number of steps 18\n",
      "****************************************************\n",
      "EPISODE  4\n",
      "  (Down)\n",
      "SFFF\n",
      "FHFH\n",
      "FFFH\n",
      "HFF\u001b[41mG\u001b[0m\n",
      "Number of steps 19\n"
     ]
    }
   ],
   "source": [
    "env.reset()\n",
    "\n",
    "for episode in range(5):\n",
    "    state = env.reset()\n",
    "    step = 0\n",
    "    done = False\n",
    "    print(\"****************************************************\")\n",
    "    print(\"EPISODE \", episode)\n",
    "\n",
    "    for step in range(max_steps):  \n",
    "        \n",
    "        # Take the action (index) that have the maximum expected future reward given that state\n",
    "        action = np.argmax(qtable[state]) #qtable defined in the previous question after 10.000 episodes \n",
    "        \n",
    "        new_state, reward, done, info = env.step(action)\n",
    "        \n",
    "        if done:\n",
    "            # Here, we decide to only print the last state (to see if our agent is on the goal or fall into an hole)\n",
    "            env.render()\n",
    "            \n",
    "            # We print the number of step it took.\n",
    "            print(\"Number of steps\", step)\n",
    "            break\n",
    "        state = new_state\n",
    "\n",
    "\n"
   ]
  },
  {
   "cell_type": "code",
   "execution_count": 17,
   "metadata": {},
   "outputs": [
    {
     "data": {
      "text/plain": [
       "[<matplotlib.lines.Line2D at 0x227eb97e430>]"
      ]
     },
     "execution_count": 17,
     "metadata": {},
     "output_type": "execute_result"
    },
    {
     "data": {
      "image/png": "[encoded data removed]",
      "text/plain": [
       "<Figure size 432x288 with 1 Axes>"
      ]
     },
     "metadata": {
      "needs_background": "light"
     },
     "output_type": "display_data"
    }
   ],
   "source": [
    "# Write here your code to evaluate the evolution of the reward in each step.\n",
    "\n",
    "# type(rewards) --> list \n",
    "# len(rewards) --> 6856 elements \n",
    "\n",
    "# Average rewards each 1000 episodes \n",
    "\n",
    "Rewards_per_episode  = np.split(np.array(rewards) , total_episodes/1000)\n",
    "count = 1000\n",
    "V = np.zeros(15)\n",
    "i = 0 \n",
    "for k in Rewards_per_episode : \n",
    "    V[i] = str(sum(k/1000))\n",
    "    count+= 1000\n",
    "    i+= 1 \n",
    "\n",
    "\n",
    "Epi = np.linspace(1000,15000,15)  \n",
    "\n",
    "plt.plot(Epi,V)"
   ]
  },
  {
   "cell_type": "code",
   "execution_count": 37,
   "metadata": {},
   "outputs": [
    {
     "data": {
      "text/plain": [
       "'\\n\\n\\n'"
      ]
     },
     "execution_count": 37,
     "metadata": {},
     "output_type": "execute_result"
    }
   ],
   "source": [
    "# Write your comments in this cell\n",
    "'''\n",
    "The average reward will oscillate between a certain domain after \n",
    "\n",
    "'''"
   ]
  }
 ],
 "metadata": {
  "interpreter": {
   "hash": "6aa1a8b2ed28e89771df5352948886da4de96dc4e60e47b144f18524ed7d54c2"
  },
  "kernelspec": {
   "display_name": "Python 3.8.8 64-bit ('base': conda)",
   "name": "python3"
  },
  "language_info": {
   "codemirror_mode": {
    "name": "ipython",
    "version": 3
   },
   "file_extension": ".py",
   "mimetype": "text/x-python",
   "name": "python",
   "nbconvert_exporter": "python",
   "pygments_lexer": "ipython3",
   "version": "3.8.8"
  }
 },
 "nbformat": 4,
 "nbformat_minor": 2
}
