{
  "cells": [
    {
      "cell_type": "markdown",
      "metadata": {
        "id": "0Wku-1yKV5If"
      },
      "source": [
        "## **TP Supervised Learning (UE MU4RBI04, 2021) -- VERSION ETUDIANTS**\n",
        "\n",
        "Ce notebook fonctionne directement avec Google Colab et Jupyterlab. Nous vous conseillons d'utiliser Google Colab.\n",
        "\n",
        "Aide: pour utiliser ce notebook, vous devez exécuter chacun des cellules les unes après les autres. En effet, certaines cellules définissent et construisent des éléments qui sont utiles par la suite. En cas de (gros) problème, vous pouvez redémarrer le noyau, et ré-exécuter les cellules une par une en partant de la première. \n",
        "\n",
        "Les deux premières cellules, à exécuter avant de commencer, permettent de:\n",
        "\n",
        "1.   charger les librairies utiles pour le TP\n",
        "2.   charger un premier jeu de données qui sera utilisé par la suite\n",
        "\n",
        "Les cellules suivantes contiennent parfois du code pour vous aider à commencer un exercice.\n",
        "\n",
        "Vous devez répondre dans la cellule qui correspond à la question (ne créez pas de nouvelle cellule SVP), y compris quand il faut faire une réponse en langage naturelle (mettez vos réponses en commentaire Python). \n",
        "\n",
        "Pour répondre aux questions, vous devez vous référer au cours disponible sur Moodle.\n",
        "\n",
        "Astuce: *dans une cellule, le raccourci clavier shift+entrée permet d'exécuter la cellule courante.*\n",
        "\n",
        "\n",
        "\n",
        "---\n",
        "\n",
        "\n",
        "\n"
      ]
    },
    {
      "cell_type": "markdown",
      "metadata": {
        "id": "q822NCcYiTwa"
      },
      "source": [
        "# Import des librairies nécessaires\n",
        "\n",
        "\n",
        "*   Matplotlib: permet d'afficher des figures. Seaborn offre des options de rendu avancée.\n",
        "*   numpy et panda: permettent de manipuler des structures de données\n",
        "*   sklearn (scikit-learn): permet d'utiliser divers algorithmes d'apprentissage\n",
        "\n"
      ]
    },
    {
      "cell_type": "code",
      "execution_count": null,
      "metadata": {
        "id": "x9sbXS28DTPV"
      },
      "outputs": [],
      "source": [
        "import os\n",
        "from datetime import datetime\n",
        "from datetime import date\n",
        "\n",
        "import math\n",
        "import numpy as np\n",
        "import matplotlib.pyplot as plt\n",
        "import pandas as pd\n",
        "\n",
        "from sklearn import datasets\n",
        "from sklearn.linear_model import *\n",
        "from sklearn.preprocessing import PolynomialFeatures\n",
        "\n",
        "import seaborn as sns\n",
        "sns.set()\n",
        "\n",
        "print(date.today(), datetime.now().strftime(\"%H:%M:%S\"),\"GMT\") # timestamp is greenwich time\n",
        "print(\"OK.\")"
      ]
    },
    {
      "cell_type": "markdown",
      "metadata": {
        "id": "qGZ3T7p5jBhl"
      },
      "source": [
        "---\n",
        "\n",
        "# Chargement et affichage d'une base de données\n",
        "\n",
        "Cette base de données décrits le lien entre descripteurs (age, sexe, etc.) et diagnostic de diabète chez une cohorte d'individus. Une description succintes des données est ici (ainsi qu'une description d'autres bases de données accessibles directement via scikit-learn) : https://scikit-learn.org/stable/datasets/index.html (il n'est pas utile de consulter cette page pour le TP)\n",
        "\n",
        "Nous allons détourner cette base de données pour étudier uniquement la relation entre l'âge et la tension artérielle (systolique). \n",
        "\n",
        "Etudiez ce code. Il illustre comment manipuler et accéder à une base de données, et comment afficher un graphique qui permet de visualiser le rapport entre l'âge et la tension artérielle. \n",
        "\n",
        "Remarque: *vous remarquerez que les données ont été préparées. Elles sont centrées en zéro et redimensionnées. C'est une pratique courante en apprentissage automatique.*"
      ]
    },
    {
      "cell_type": "code",
      "execution_count": null,
      "metadata": {
        "id": "2XG2KiwEAs2z"
      },
      "outputs": [],
      "source": [
        "# Base de données normalisées contenant une description de quelques centaines de patients diabétiques\n",
        "# lien vers la base originelle: https://www4.stat.ncsu.edu/~boos/var.select/diabetes.html\n",
        "# article référence: http://web.stanford.edu/~hastie/Papers/LARS/LeastAngle_2002.pdf\n",
        "\n",
        "diabetes = datasets.load_diabetes() # note that values have been centered and scaled\n",
        "#print (diabetes['feature_names'])\n",
        "diabetes_data = pd.DataFrame(data=diabetes[\"data\"], columns=diabetes[\"feature_names\"])\n",
        "\n",
        "X = diabetes_data['age']\n",
        "y = diabetes_data['bp']\n",
        "\n",
        "plt.scatter(X,y, label=\"Data points\", color='brown', s=1)\n",
        "plt.title('age vs. blood pressure')\n",
        "plt.xlabel('age')\n",
        "plt.ylabel('blood pressure')\n",
        "plt.legend()\n",
        "plt.show()\n"
      ]
    },
    {
      "cell_type": "markdown",
      "metadata": {
        "id": "sPKu3gcll8i5"
      },
      "source": [
        "---\n",
        "# Régression linéaire à la main\n",
        "\n",
        "Dans cet exercice, vous devez trouver *à la main* les paramètres d'une fonction affine qui capture au mieux le rapport entre l'âge et la pression artérielle. Vous trouverez les slides du cours sur Moodle pour vous aider.\n",
        "\n"
      ]
    },
    {
      "cell_type": "markdown",
      "metadata": {
        "id": "TnUJpIaYZ97H"
      },
      "source": [
        "1.   écrivez une fonction qui prend en paramètre *X*, *theta_0* et *theta_1*, et qui renvoie la valeur de theta_0 + theta_1 * x pour chaque élément de *X*. *X* est un vecteur (cf. Section précédente), il faut donc renvoyer un nouveau vecteur de même taille.\n",
        "  * Pour tester votre fonction, affichez le résultat de son appel sur le vecteur X initialisé précédemment. \n"
      ]
    },
    {
      "cell_type": "code",
      "execution_count": 1,
      "metadata": {
        "id": "6ul1cJm-aDY5"
      },
      "outputs": [],
      "source": [
        "def h(X,theta_0,theta_1):\n",
        "  # A compléter\n",
        "  return 0 #à compléter"
      ]
    },
    {
      "cell_type": "markdown",
      "metadata": {
        "id": "vR_tMb42aADr"
      },
      "source": [
        "2.   écrivez une fonction qui calcule la perte pour une fonction hypothèse. Cette fonction calcule la perte et prend en paramètres:\n",
        "*   (a) un ensemble d'exemples (*X*) et des labels associés (*y*). Cf. Section précédente pour voir le contenu et la structure de X et y.\n",
        "*   (b) les paramètres d'une fonction hypothèse (theta_1 et theta_2), à utiliser avec la fonction *h* précédemment écrite.\n",
        "* Pour tester votre fonction, affichez le résultat de son appel sur le vecteur X initialisé précédemment en utilisant la fonction *h* de la question précédente. choisissez *theta_0*=1 et *theta_1*=1 (il s'agit d'un test!)."
      ]
    },
    {
      "cell_type": "code",
      "execution_count": 2,
      "metadata": {
        "id": "ifkCEZu3aD0l"
      },
      "outputs": [],
      "source": [
        "def loss(X, y, theta_0, theta_1):\n",
        "  # A compléter\n",
        "  return 0"
      ]
    },
    {
      "cell_type": "markdown",
      "metadata": {
        "id": "KaQfWazdaBxC"
      },
      "source": [
        "3.   cherchez *à la main* pendant *5 minutes maximum* les valeurs theta_0 et theta_1 tel que la fonction de perte renvoie une erreur minimale pour prédire la pression artérielle en fonction de l'âge sur la base précédemment chargée (\"diabetes\"). Tracez le résultat sur un graphe ou vous projeterez aussi les données brutes.\n"
      ]
    },
    {
      "cell_type": "code",
      "execution_count": null,
      "metadata": {
        "id": "ZMD7VEjb3Nq4"
      },
      "outputs": [],
      "source": [
        "# Assume that the expert provides a good guess for the hypothesis and it looks like a straight line (i.e. expert guess)\n",
        "\n",
        "theta_0_opt = 0 # à chercher\n",
        "theta_1_opt = 0 # à chercher\n",
        "\n",
        "print (\"Best hypothesis: h(x) =\",theta_0_opt,\"+ \",theta_1_opt,\"* x\")\n",
        "\n",
        "plt.scatter(X,y, label=\"Data points\", color='brown', s=1)\n",
        "plt.plot(X,X_approx, label=\"Regression (expert)\", color='red')\n",
        "plt.title('age vs. blood pressure')\n",
        "plt.xlabel('age')\n",
        "plt.ylabel('blood pressure')\n",
        "plt.legend()\n",
        "plt.show()\n",
        "\n",
        "#print('loss(Theta) = %2.2f' % loss(X, y, theta_0_opt, theta_1_opt))\n",
        "print('loss(Theta) = ', loss(X, y, theta_0_opt, theta_1_opt))\n"
      ]
    },
    {
      "cell_type": "markdown",
      "metadata": {
        "id": "XwltZgnpouTv"
      },
      "source": [
        "---\n",
        "\n",
        "# Influence des paramètres de la fonction linéaire sur la performance\n",
        "\n",
        "Vous allez maintenant étudier l'influence des valeurs de *theta_0* et *theta_1* sur la qualité des fonctions hypothèses que l'on peut obtenir. Pour cela, vous allez tracer le comportement d'une fonction hypothèse dont on fixe la valeur de *theta_0*, et dont on fait varier la valeur de *theta_1* sur une plage de valeur. \n",
        "\n",
        "Vous allez donc tracer sur une figure la perte en fonction de la valeur de *theta_1*. Ceci va nous permettre de manière simple de visualiser le gradient d'une fonction particulière sur une dimension (theta_1). On s'attend à une courbe ressemblant à une fonction sphère (i.e. convexe, unimodale, ressemblant à un \"U\") dont le point le plus bas donne la valeur optimale de theta_1 étant donné theta_0 fixé.\n"
      ]
    },
    {
      "cell_type": "markdown",
      "metadata": {
        "id": "bWoMkyyYb739"
      },
      "source": [
        "\n",
        "1.   calculer la perte de la fonction h(x) avec *theta_0* fixé à 0, en faisant varier *theta_1* de -100 à 100, par pas de 0.1. Tracez cette fonction et affichez la valeur de *theta_1* qui permet de minimiser la perte (que vous afficherez aussi).\n"
      ]
    },
    {
      "cell_type": "code",
      "execution_count": null,
      "metadata": {
        "id": "9W-TsjG2b-Ps"
      },
      "outputs": [],
      "source": [
        "\n",
        "theta_1 = np.arange(-100, 100, 0.1)\n",
        "\n",
        "theta_0_fixed = 0\n",
        "loss1 = [] # après len(loss1) = len(theta_1)\n",
        "\n",
        "for t1 in theta_1:\n",
        "  # à compléter\n",
        "\n",
        "plt.title('Impact of a fixed theta_0')\n",
        "plt.plot(theta_1, loss1, label='theta_0=0', color='red') \n",
        "plt.legend()\n",
        "plt.xlabel(r'$\\theta_1$')\n",
        "plt.ylabel(r'$loss(\\theta)$')\n",
        "plt.show()\n"
      ]
    },
    {
      "cell_type": "markdown",
      "metadata": {
        "id": "NhDdHqyyb-jx"
      },
      "source": [
        "2.   idem en fixant *theta_0* à 2.\n"
      ]
    },
    {
      "cell_type": "code",
      "execution_count": null,
      "metadata": {
        "id": "0EO6RaHcb_tX"
      },
      "outputs": [],
      "source": [
        "# à compléter"
      ]
    },
    {
      "cell_type": "markdown",
      "metadata": {
        "id": "SxseYT3xcAA-"
      },
      "source": [
        "3.   idem en fixant *theta_0* à la valeur que vous aviez trouvée lors de votre recherche à la main.\n"
      ]
    },
    {
      "cell_type": "code",
      "execution_count": null,
      "metadata": {
        "id": "OiXx1-dOAH4W"
      },
      "outputs": [],
      "source": [
        "# à compléter"
      ]
    },
    {
      "cell_type": "markdown",
      "metadata": {
        "id": "WYFJIkwAcgaY"
      },
      "source": [
        "---\n",
        "\n",
        "# Algorithme de régression linéaire pour l'apprentissage supervisé\n",
        "\n",
        "Dans cet exercice, vous allez implémenter l'algorithme de regression linéaire, en utilisant un modèle de la forme *y = ax +b*. Vous ne devez pas utiliser de librairies externes, seulement du code Python simple (et numpy).\n",
        "\n",
        "Vous testerez votre algorithme sur les mêmes données que précédemment. L'objectif est de comparer la solution obtenue par apprentissage avec la solution proposée précédemment par l'expert. \n"
      ]
    },
    {
      "cell_type": "markdown",
      "metadata": {
        "id": "Ekw40qhQdHpU"
      },
      "source": [
        "1.   En vous référant au cours, implémentez la regression linéaire et entrainez votre algorithme sur les données précédemment utilisées. Suggestion pour commencer: initialisez les paramètres d'apprentissage *theta_1* et *theta_2* à zéro, *alpha* à 0.1 et fixez le nombre d'itérations à 20000. Vous afficherez la valeur de la fonction de perte toutes les 1000 itérations.\n"
      ]
    },
    {
      "cell_type": "code",
      "execution_count": null,
      "metadata": {
        "id": "w19w17HTdI8a"
      },
      "outputs": [],
      "source": [
        "alpha = 0.1 # learning rate\n",
        "theta_0 = 0 # initial value for theta_0\n",
        "theta_1 = 0 # initial value for theta_1\n",
        "iterations = 20000 \n",
        "\n",
        "# A compléter\n",
        "\n",
        "print (\"SUMMARY:\")\n",
        "print (\"h(x) =\", theta_0,\" + \",theta_1,\"* x with loss on learning dataset:\", loss(X, y, theta_0, theta_1) )\n",
        "\n"
      ]
    },
    {
      "cell_type": "markdown",
      "metadata": {
        "id": "tvLndS7ZdJTz"
      },
      "source": [
        "2.   Tracer la fonction hypothèse obtenue et comparez le résultat avec celui donnez par la solution précédemment proposée par l'expert (à tracer sur la même figure).\n"
      ]
    },
    {
      "cell_type": "code",
      "execution_count": null,
      "metadata": {
        "id": "kjB7fFdVdKG_"
      },
      "outputs": [],
      "source": [
        "# A compléter\n",
        "\n"
      ]
    },
    {
      "cell_type": "markdown",
      "metadata": {
        "id": "6rDVXpHCdMKy"
      },
      "source": [
        "3.   Etudiez l'influence du taux d'apprentissage et du nombre d'itérations. Qu'observez vous?"
      ]
    },
    {
      "cell_type": "code",
      "execution_count": null,
      "metadata": {
        "id": "Kf4_8PRv_9Pk"
      },
      "outputs": [],
      "source": [
        "# A compléter\n",
        "\n",
        "# Répondre ici (texte libre à mettre en commentaire)."
      ]
    }
  ],
  "metadata": {
    "colab": {
      "collapsed_sections": [],
      "name": "2021-10-20 - MU4RBI04 - TP supervised learning - ETUDIANTS.ipynb",
      "provenance": []
    },
    "kernelspec": {
      "display_name": "Python 3",
      "name": "python3"
    }
  },
  "nbformat": 4,
  "nbformat_minor": 0
}
